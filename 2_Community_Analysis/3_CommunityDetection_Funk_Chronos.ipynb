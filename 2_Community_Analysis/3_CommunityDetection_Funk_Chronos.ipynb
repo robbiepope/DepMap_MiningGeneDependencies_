{
 "cells": [
  {
   "cell_type": "markdown",
   "source": [
    "# Community Detection, Funk, et al. (n=4,672)\n",
    "### Aim:\n",
    "Using the K-Clique community detection algorithm, detect the communities in the 4,672 generated STRING networks\n",
    "For valid communities perform Gene Set Enrichment Analysis\n",
    "\n",
    "### Output:\n",
    "Dictionary of dictionaries of results with gene set for the detected communities and GSEA for the community.\n",
    "Each gene is a key with the following keys\n",
    "##### Dict Keys:\n",
    "- **['Community']** - (LIST of STR) List of genes for the largest community\n",
    "- **['GSEA']** - (DF) Pandas DF of GSEA for the largest community\n",
    "\n",
    "#### Description:\n",
    "- Perform community detection for each of the 4,672 generated networks using the four algorithms\n",
    "- For all valid communities (>=6 genes) perform GSEA\n",
    "- Save final dictionary of results as a pickle file in directory 'pickle_files'"
   ],
   "metadata": {
    "collapsed": false,
    "pycharm": {
     "name": "#%% md\n"
    }
   }
  },
  {
   "cell_type": "code",
   "execution_count": 1,
   "outputs": [],
   "source": [
    "# Import packages and DepMap tools for community detection\n",
    "import os\n",
    "from DepMapTools.DataImport import SaveLoad\n",
    "from DepMapTools.Communities import CommunityAnalysis"
   ],
   "metadata": {
    "collapsed": false,
    "pycharm": {
     "name": "#%%\n"
    }
   }
  },
  {
   "cell_type": "code",
   "execution_count": 2,
   "outputs": [],
   "source": [
    "# Instantiate SaveLoad and CommunityAnalysis classes\n",
    "sl = SaveLoad()\n",
    "ca = CommunityAnalysis()"
   ],
   "metadata": {
    "collapsed": false,
    "pycharm": {
     "name": "#%%\n"
    }
   }
  },
  {
   "cell_type": "code",
   "execution_count": 3,
   "outputs": [],
   "source": [
    "# Load sing gene analysis dictionary (random networks, n=495)\n",
    "PRD = \"..\"\n",
    "filename = 'chronos_singlegene_funk.pickle'\n",
    "pickle_path = os.path.join(PRD,\n",
    "                           '1_SingleGene_Analysis/pickle_files/'+filename)\n",
    "gene_dict = sl.load_dict_pickle(pickle_path)"
   ],
   "metadata": {
    "collapsed": false,
    "pycharm": {
     "name": "#%%\n"
    }
   }
  },
  {
   "cell_type": "markdown",
   "source": [
    "<br>\n",
    "\n",
    "### K-Clique Community Detection"
   ],
   "metadata": {
    "collapsed": false,
    "pycharm": {
     "name": "#%% md\n"
    }
   }
  },
  {
   "cell_type": "code",
   "execution_count": 5,
   "outputs": [
    {
     "name": "stderr",
     "output_type": "stream",
     "text": [
      "2022-07-30 18:51:34,502 Warning: No enrich terms using library GO_Biological_Process_2021 when cutoff = 0.5\n",
      "2022-07-30 20:30:41,618 Warning: No enrich terms using library GO_Biological_Process_2021 when cutoff = 0.5\n",
      "2022-07-30 21:14:02,592 Warning: No enrich terms using library GO_Biological_Process_2021 when cutoff = 0.5\n",
      "2022-07-30 21:14:06,870 Warning: No enrich terms using library GO_Biological_Process_2021 when cutoff = 0.5\n",
      "2022-07-30 21:18:56,263 Warning: No enrich terms using library GO_Biological_Process_2021 when cutoff = 0.5\n",
      "2022-07-30 23:17:30,621 Warning: No enrich terms using library GO_Biological_Process_2021 when cutoff = 0.5\n",
      "2022-07-30 23:21:14,466 Warning: No enrich terms using library GO_Biological_Process_2021 when cutoff = 0.5\n"
     ]
    },
    {
     "name": "stdout",
     "output_type": "stream",
     "text": [
      "4672 Networks Analysed\n",
      "Complete\n",
      "--------------------\n"
     ]
    }
   ],
   "source": [
    "# Detect communities using K-Clique algorithm\n",
    "k_coms = ca.k_clique_com_analysis(gene_dict)"
   ],
   "metadata": {
    "collapsed": false,
    "pycharm": {
     "name": "#%%\n"
    }
   }
  },
  {
   "cell_type": "code",
   "execution_count": 6,
   "outputs": [],
   "source": [
    "# Save k-clique dictionary of results\n",
    "sl.save_dict_pickle(k_coms, 'chronos_k_community_funk')"
   ],
   "metadata": {
    "collapsed": false,
    "pycharm": {
     "name": "#%%\n"
    }
   }
  }
 ],
 "metadata": {
  "kernelspec": {
   "display_name": "Python 3",
   "language": "python",
   "name": "python3"
  },
  "language_info": {
   "codemirror_mode": {
    "name": "ipython",
    "version": 2
   },
   "file_extension": ".py",
   "mimetype": "text/x-python",
   "name": "python",
   "nbconvert_exporter": "python",
   "pygments_lexer": "ipython2",
   "version": "2.7.6"
  }
 },
 "nbformat": 4,
 "nbformat_minor": 0
}