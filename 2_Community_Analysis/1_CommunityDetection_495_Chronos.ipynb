{
 "cells": [
  {
   "cell_type": "markdown",
   "source": [
    "# Community Detection (n=495)\n",
    "### Aim:\n",
    "Using K-Clique, Girvan Newman, Louvain and Label Propagation algorithms, detect the communities in the generated STRING networks\n",
    "For valid communities perform Gene Set Enrichment Analysis\n",
    "\n",
    "### Output:\n",
    "Dictionary of dictionaries of results with gene set for the detected communities and GSEA for the community.\n",
    "Each gene is a key with the following keys\n",
    "##### Dict Keys:\n",
    "- **['Community']** - (LIST of STR) List of genes for the largest community\n",
    "- **['GSEA']** - (DF) Pandas DF of GSEA for the largest community\n",
    "\n",
    "#### Description:\n",
    "- Perform community detection for each of the 495 generated networks using the four algorithms\n",
    "- For all valid communities (>=6 genes) perform GSEA\n",
    "- Save final dictionary of results as a pickle file in directory 'pickle_files'"
   ],
   "metadata": {
    "collapsed": false,
    "pycharm": {
     "name": "#%% md\n"
    }
   }
  },
  {
   "cell_type": "code",
   "execution_count": 1,
   "outputs": [],
   "source": [
    "# Import packages and DepMap tools for community detection\n",
    "import os\n",
    "from DepMapTools.DataImport import SaveLoad\n",
    "from DepMapTools.Communities import CommunityAnalysis\n",
    "from DepMapTools.Networks import Permutations"
   ],
   "metadata": {
    "collapsed": false,
    "pycharm": {
     "name": "#%%\n"
    }
   }
  },
  {
   "cell_type": "code",
   "execution_count": 2,
   "outputs": [],
   "source": [
    "# Instantiate SaveLoad and CommunityAnalysis classes\n",
    "sl = SaveLoad()\n",
    "ca = CommunityAnalysis()\n",
    "pm = Permutations()"
   ],
   "metadata": {
    "collapsed": false,
    "pycharm": {
     "name": "#%%\n"
    }
   }
  },
  {
   "cell_type": "code",
   "execution_count": 3,
   "outputs": [],
   "source": [
    "# Load sing gene analysis dictionary (n=495)\n",
    "PRD = \"..\"\n",
    "filename = 'chronos_singlegene_495.pickle'\n",
    "pickle_path = os.path.join(PRD,\n",
    "                        '1_SingleGene_Analysis/pickle_files/'+filename)\n",
    "gene_dict = sl.load_dict_pickle(pickle_path)"
   ],
   "metadata": {
    "collapsed": false,
    "pycharm": {
     "name": "#%%\n"
    }
   }
  },
  {
   "cell_type": "markdown",
   "source": [
    "<br>\n",
    "\n",
    "### K-Clique Community Detection"
   ],
   "metadata": {
    "collapsed": false,
    "pycharm": {
     "name": "#%% md\n"
    }
   }
  },
  {
   "cell_type": "code",
   "execution_count": null,
   "outputs": [],
   "source": [
    "# Detect communities using K-Clique algorithm\n",
    "k_coms = ca.k_clique_com_analysis(gene_dict)"
   ],
   "metadata": {
    "collapsed": false,
    "pycharm": {
     "name": "#%%\n"
    }
   }
  },
  {
   "cell_type": "code",
   "execution_count": null,
   "outputs": [],
   "source": [
    "# Save k-clique dictionary of results\n",
    "sl.save_dict_pickle(k_coms, 'chronos_k_community_495')"
   ],
   "metadata": {
    "collapsed": false,
    "pycharm": {
     "name": "#%%\n"
    }
   }
  },
  {
   "cell_type": "markdown",
   "source": [
    "<br>\n",
    "\n",
    "### Girvan Newman Community Detection"
   ],
   "metadata": {
    "collapsed": false,
    "pycharm": {
     "name": "#%% md\n"
    }
   }
  },
  {
   "cell_type": "code",
   "execution_count": null,
   "outputs": [],
   "source": [
    "# Detect communities using Girvan-Newman algorithm\n",
    "girv_coms = ca.girvan_com_analysis(gene_dict)"
   ],
   "metadata": {
    "collapsed": false,
    "pycharm": {
     "name": "#%%\n"
    }
   }
  },
  {
   "cell_type": "code",
   "execution_count": null,
   "outputs": [],
   "source": [
    "# Save Girvan-Newman dictionary of results\n",
    "sl.save_dict_pickle(girv_coms, 'chronos_girvan_community_495')"
   ],
   "metadata": {
    "collapsed": false,
    "pycharm": {
     "name": "#%%\n"
    }
   }
  },
  {
   "cell_type": "markdown",
   "source": [
    "<br>\n",
    "\n",
    "### Louvain Community Detection"
   ],
   "metadata": {
    "collapsed": false,
    "pycharm": {
     "name": "#%% md\n"
    }
   }
  },
  {
   "cell_type": "code",
   "execution_count": null,
   "outputs": [],
   "source": [
    "# Detect communities using Louvain algorithm\n",
    "louv_coms = ca.louvain_com_analysis(gene_dict)"
   ],
   "metadata": {
    "collapsed": false,
    "pycharm": {
     "name": "#%%\n"
    }
   }
  },
  {
   "cell_type": "code",
   "execution_count": null,
   "outputs": [],
   "source": [
    "# Save Louvain dictionary of results\n",
    "sl.save_dict_pickle(louv_coms, 'chronos_louvain_community_495')"
   ],
   "metadata": {
    "collapsed": false,
    "pycharm": {
     "name": "#%%\n"
    }
   }
  },
  {
   "cell_type": "markdown",
   "source": [
    "<br>\n",
    "\n",
    "### Label Propagation Community Detection"
   ],
   "metadata": {
    "collapsed": false,
    "pycharm": {
     "name": "#%% md\n"
    }
   }
  },
  {
   "cell_type": "code",
   "execution_count": null,
   "outputs": [],
   "source": [
    "# Detect communities using Label Propagation algorithm\n",
    "label_coms = ca.label_com_analysis(gene_dict)"
   ],
   "metadata": {
    "collapsed": false,
    "pycharm": {
     "name": "#%%\n"
    }
   }
  },
  {
   "cell_type": "code",
   "execution_count": null,
   "outputs": [],
   "source": [
    "# Save Louvain dictionary of results\n",
    "sl.save_dict_pickle(label_coms, 'chronos_label_community_495')"
   ],
   "metadata": {
    "collapsed": false,
    "pycharm": {
     "name": "#%%\n"
    }
   }
  },
  {
   "cell_type": "code",
   "execution_count": null,
   "outputs": [],
   "source": [],
   "metadata": {
    "collapsed": false,
    "pycharm": {
     "name": "#%%\n"
    }
   }
  }
 ],
 "metadata": {
  "kernelspec": {
   "display_name": "Python 3",
   "language": "python",
   "name": "python3"
  },
  "language_info": {
   "codemirror_mode": {
    "name": "ipython",
    "version": 2
   },
   "file_extension": ".py",
   "mimetype": "text/x-python",
   "name": "python",
   "nbconvert_exporter": "python",
   "pygments_lexer": "ipython2",
   "version": "2.7.6"
  }
 },
 "nbformat": 4,
 "nbformat_minor": 0
}