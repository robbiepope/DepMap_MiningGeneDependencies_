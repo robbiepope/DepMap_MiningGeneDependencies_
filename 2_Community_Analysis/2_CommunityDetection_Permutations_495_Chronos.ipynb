{
 "cells": [
  {
   "cell_type": "markdown",
   "source": [
    "# Community Detection Permutation Statistical Analysis (n=495)\n",
    "### Aim:\n",
    "Determine communities significantly enriched for internal edges by a computing 10,000 network permutations whilst preserving node degree\n",
    "Method implementation as described by Pan et al. (2018): https://pubmed.ncbi.nlm.nih.gov/29778836/\n",
    "\n",
    "### Output:\n",
    "Dictionary of statistically relevant communities identified through the network permutations + p-values"
   ],
   "metadata": {
    "collapsed": false,
    "pycharm": {
     "name": "#%% md\n"
    }
   }
  },
  {
   "cell_type": "code",
   "execution_count": 1,
   "outputs": [],
   "source": [
    "# Import DepMap tools and packages\n",
    "import os\n",
    "from DepMapTools.DataImport import SaveLoad\n",
    "from DepMapTools.Networks import Permutations"
   ],
   "metadata": {
    "collapsed": false,
    "pycharm": {
     "name": "#%%\n"
    }
   }
  },
  {
   "cell_type": "code",
   "execution_count": 2,
   "outputs": [],
   "source": [
    "# Instantiate classes\n",
    "sl = SaveLoad()\n",
    "pm = Permutations()"
   ],
   "metadata": {
    "collapsed": false,
    "pycharm": {
     "name": "#%%\n"
    }
   }
  },
  {
   "cell_type": "code",
   "execution_count": 4,
   "outputs": [],
   "source": [
    "# Define network dictionary path\n",
    "PRD = \"..\"\n",
    "filename = 'chronos_singlegene_495.pickle'\n",
    "gene_path = os.path.join(PRD,\n",
    "                         '1_SingleGene_Analysis/pickle_files/'+filename)\n",
    "# Load single gene analysis dictionary (n=495)\n",
    "gene_dict = sl.load_dict_pickle(gene_path)"
   ],
   "metadata": {
    "collapsed": false,
    "pycharm": {
     "name": "#%%\n"
    }
   }
  },
  {
   "cell_type": "code",
   "execution_count": null,
   "outputs": [],
   "source": [
    "# Define dictionary paths for community dictionaries (n=495)\n",
    "PRD = \".\"\n",
    "k_path = os.path.join(PRD,\n",
    "                      'pickle_files/chronos_k_community_495.pickle')\n",
    "gn_path = os.path.join(PRD,\n",
    "                       'pickle_files/chronos_girvan_community_495.pickle')\n",
    "lo_path = os.path.join(PRD,\n",
    "                       'pickle_files/chronos_louvain_community_495.pickle')\n",
    "la_path = os.path.join(PRD,\n",
    "                       'pickle_files/chronos_label_community_495.pickle')"
   ],
   "metadata": {
    "collapsed": false,
    "pycharm": {
     "name": "#%%\n"
    }
   }
  },
  {
   "cell_type": "code",
   "execution_count": null,
   "outputs": [],
   "source": [
    "# Load single gene analysis and community dictionaries (n=495)\n",
    "k_com = sl.load_dict_pickle(k_path)\n",
    "gn_com = sl.load_dict_pickle(gn_path)\n",
    "lo_com = sl.load_dict_pickle(lo_path)\n",
    "la_com = sl.load_dict_pickle(la_path)"
   ],
   "metadata": {
    "collapsed": false,
    "pycharm": {
     "name": "#%%\n"
    }
   }
  },
  {
   "cell_type": "markdown",
   "source": [
    "### K-Clique Analysis"
   ],
   "metadata": {
    "collapsed": false,
    "pycharm": {
     "name": "#%% md\n"
    }
   }
  },
  {
   "cell_type": "code",
   "execution_count": null,
   "outputs": [],
   "source": [
    "# Perform permutation analysis to get empirical p-values\n",
    "k_p_dict = pm.permutation_analysis(gene_dict,\n",
    "                                     k_com,\n",
    "                                     num_permute=10000,\n",
    "                                     ran_seed=16,\n",
    "                                     fdr_alpha=0.05,\n",
    "                                     fdr_method='indep')"
   ],
   "metadata": {
    "collapsed": false,
    "pycharm": {
     "name": "#%%\n"
    }
   }
  },
  {
   "cell_type": "code",
   "execution_count": null,
   "outputs": [],
   "source": [
    "# Export empirical p-value analysis\n",
    "sl.save_dict_pickle(k_p_dict, 'chronos_k_permute_495')"
   ],
   "metadata": {
    "collapsed": false,
    "pycharm": {
     "name": "#%%\n"
    }
   }
  },
  {
   "cell_type": "markdown",
   "source": [
    "### Girvan Newman Analysis\n"
   ],
   "metadata": {
    "collapsed": false,
    "pycharm": {
     "name": "#%% md\n"
    }
   }
  },
  {
   "cell_type": "code",
   "execution_count": null,
   "outputs": [],
   "source": [
    "# Perform permutation analysis to get empirical p-values\n",
    "gn_p_dict = pm.permutation_analysis(gene_dict,\n",
    "                                    gn_com,\n",
    "                                    num_permute=10000,\n",
    "                                    ran_seed=16,\n",
    "                                    fdr_alpha=0.05,\n",
    "                                    fdr_method='indep')"
   ],
   "metadata": {
    "collapsed": false,
    "pycharm": {
     "name": "#%%\n"
    }
   }
  },
  {
   "cell_type": "code",
   "execution_count": null,
   "outputs": [],
   "source": [
    "# Export empirical p-value analysis\n",
    "sl.save_dict_pickle(gn_p_dict, 'chronos_girvan_permute_495')"
   ],
   "metadata": {
    "collapsed": false,
    "pycharm": {
     "name": "#%%\n"
    }
   }
  },
  {
   "cell_type": "markdown",
   "source": [
    "### Louvain Analysis"
   ],
   "metadata": {
    "collapsed": false,
    "pycharm": {
     "name": "#%% md\n"
    }
   }
  },
  {
   "cell_type": "code",
   "execution_count": null,
   "outputs": [],
   "source": [
    "# Perform permutation analysis to get empirical p-values\n",
    "lo_p_dict = pm.permutation_analysis(gene_dict,\n",
    "                                    lo_com,\n",
    "                                    num_permute=10000,\n",
    "                                    ran_seed=16,\n",
    "                                    fdr_alpha=0.05,\n",
    "                                    fdr_method='indep')"
   ],
   "metadata": {
    "collapsed": false,
    "pycharm": {
     "name": "#%%\n"
    }
   }
  },
  {
   "cell_type": "code",
   "execution_count": null,
   "outputs": [],
   "source": [
    "# Export empirical p-value analysis\n",
    "sl.save_dict_pickle(lo_p_dict, 'chronos_louvain_permute_495')"
   ],
   "metadata": {
    "collapsed": false,
    "pycharm": {
     "name": "#%%\n"
    }
   }
  },
  {
   "cell_type": "markdown",
   "source": [
    "# Label Analysis"
   ],
   "metadata": {
    "collapsed": false,
    "pycharm": {
     "name": "#%% md\n"
    }
   }
  },
  {
   "cell_type": "code",
   "execution_count": null,
   "outputs": [],
   "source": [
    "# Perform permutation analysis to get empirical p-values\n",
    "la_p_dict = pm.permutation_analysis(gene_dict,\n",
    "                                    la_com,\n",
    "                                    num_permute=10000,\n",
    "                                    ran_seed=16,\n",
    "                                    fdr_alpha=0.05,\n",
    "                                    fdr_method='indep')"
   ],
   "metadata": {
    "collapsed": false,
    "pycharm": {
     "name": "#%%\n"
    }
   }
  },
  {
   "cell_type": "code",
   "execution_count": null,
   "outputs": [],
   "source": [
    "# Export empirical p-value analysis\n",
    "sl.save_dict_pickle(la_p_dict, 'chronos_label_permute_495')"
   ],
   "metadata": {
    "collapsed": false,
    "pycharm": {
     "name": "#%%\n"
    }
   }
  },
  {
   "cell_type": "code",
   "execution_count": null,
   "outputs": [],
   "source": [],
   "metadata": {
    "collapsed": false,
    "pycharm": {
     "name": "#%%\n"
    }
   }
  }
 ],
 "metadata": {
  "kernelspec": {
   "display_name": "Python 3",
   "language": "python",
   "name": "python3"
  },
  "language_info": {
   "codemirror_mode": {
    "name": "ipython",
    "version": 2
   },
   "file_extension": ".py",
   "mimetype": "text/x-python",
   "name": "python",
   "nbconvert_exporter": "python",
   "pygments_lexer": "ipython2",
   "version": "2.7.6"
  }
 },
 "nbformat": 4,
 "nbformat_minor": 0
}