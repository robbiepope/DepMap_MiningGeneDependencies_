{
 "cells": [
  {
   "cell_type": "markdown",
   "source": [
    "# Download NCBI gene file and convert to a python file for GO analysis\n",
    "### Aim:\n",
    "Instructions of how to download thr gene file here: https://github.com/tanghaibao/goatools/blob/main/doc/md/README_NCBI_gene.md\n",
    "<br>\n",
    "NCBI website: https://www.ncbi.nlm.nih.gov/gene/\n",
    "<br>\n",
    "After file has been downloaded place in same directory as this notebook and use the OntologyAnalysis function 'download_ncbi' to convert\n",
    "the gene file to an .py file that can be used in the GO analysis"
   ],
   "metadata": {
    "collapsed": false,
    "pycharm": {
     "name": "#%% md\n"
    }
   }
  },
  {
   "cell_type": "code",
   "execution_count": 2,
   "outputs": [],
   "source": [
    "# Import DepMap tools and instantiate class\n",
    "from DepMapTools.GeneOntology import OntologyAnalysis\n",
    "oa = OntologyAnalysis()"
   ],
   "metadata": {
    "collapsed": false,
    "pycharm": {
     "name": "#%%\n"
    }
   }
  },
  {
   "cell_type": "code",
   "execution_count": 3,
   "outputs": [
    {
     "name": "stdout",
     "output_type": "stream",
     "text": [
      "      20,616 lines READ:  gene_result.txt\n",
      "      20,598 geneids WROTE: genes_ncbi_9606_proteincoding.py\n"
     ]
    }
   ],
   "source": [
    "oa.download_ncbi(filename='gene_result.txt', output='genes_ncbi_9606_proteincoding.py')"
   ],
   "metadata": {
    "collapsed": false,
    "pycharm": {
     "name": "#%%\n"
    }
   }
  }
 ],
 "metadata": {
  "kernelspec": {
   "display_name": "Python 3",
   "language": "python",
   "name": "python3"
  },
  "language_info": {
   "codemirror_mode": {
    "name": "ipython",
    "version": 2
   },
   "file_extension": ".py",
   "mimetype": "text/x-python",
   "name": "python",
   "nbconvert_exporter": "python",
   "pygments_lexer": "ipython2",
   "version": "2.7.6"
  }
 },
 "nbformat": 4,
 "nbformat_minor": 0
}