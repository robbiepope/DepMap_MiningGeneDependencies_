{
 "cells": [
  {
   "cell_type": "markdown",
   "source": [
    "# Literature search for identified genes\n",
    "### Aim:\n",
    "Search the PubMed database for publications related to the identified gene and cell cycle\n",
    "<br>\n",
    "### Output:\n",
    "DF of genes with communities enriched in cell cycle terms exported as a CSV file"
   ],
   "metadata": {
    "collapsed": false,
    "pycharm": {
     "name": "#%% md\n"
    }
   }
  },
  {
   "cell_type": "code",
   "execution_count": 1,
   "outputs": [],
   "source": [
    "# Import packages and DepMap tools\n",
    "import pandas as pd\n",
    "import os\n",
    "from DepMapTools.Mine import MineData\n",
    "from DepMapTools.Networks import NetworkAnalysis\n",
    "import networkx as nx"
   ],
   "metadata": {
    "collapsed": false,
    "pycharm": {
     "name": "#%%\n"
    }
   }
  },
  {
   "cell_type": "code",
   "execution_count": 2,
   "outputs": [],
   "source": [
    "# Instantiate MineData class\n",
    "md = MineData()\n",
    "na = NetworkAnalysis()"
   ],
   "metadata": {
    "collapsed": false,
    "pycharm": {
     "name": "#%%\n"
    }
   }
  },
  {
   "cell_type": "code",
   "execution_count": 3,
   "outputs": [],
   "source": [
    "# Load CSV file of list of identified genes\n",
    "PRD = '.'\n",
    "path = os.path.join(PRD,\n",
    "                    'identified_genes_final.csv')\n",
    "df = pd.read_csv(path)"
   ],
   "metadata": {
    "collapsed": false,
    "pycharm": {
     "name": "#%%\n"
    }
   }
  },
  {
   "cell_type": "code",
   "execution_count": 4,
   "outputs": [],
   "source": [
    "# Get list of genes for each term\n",
    "g1 = list(df[df['Term'] == 'G1/S']['genes'])\n",
    "g2 = list(df[df['Term'] == 'G2/M']['genes'])\n",
    "ma = list(df[df['Term'] == 'metaphase/anaphase']['genes'])"
   ],
   "metadata": {
    "collapsed": false,
    "pycharm": {
     "name": "#%%\n"
    }
   }
  },
  {
   "cell_type": "code",
   "execution_count": 5,
   "outputs": [],
   "source": [
    "# Get interactions\n",
    "g1_int = na.generate_interactions(g1)\n",
    "g2_int = na.generate_interactions(g2)\n",
    "ma_int = na.generate_interactions(ma)"
   ],
   "metadata": {
    "collapsed": false,
    "pycharm": {
     "name": "#%%\n"
    }
   }
  },
  {
   "cell_type": "code",
   "execution_count": 6,
   "outputs": [],
   "source": [
    "# Make networks\n",
    "g1_net = na.network_import(g1_int)\n",
    "g2_net = na.network_import(g2_int)\n",
    "ma_net = na.network_import(ma_int)"
   ],
   "metadata": {
    "collapsed": false,
    "pycharm": {
     "name": "#%%\n"
    }
   }
  },
  {
   "cell_type": "code",
   "execution_count": 7,
   "outputs": [],
   "source": [
    "# Remove self loops\n",
    "g1_net.remove_edges_from(nx.selfloop_edges(g1_net))\n",
    "g2_net.remove_edges_from(nx.selfloop_edges(g2_net))\n",
    "ma_net.remove_edges_from(nx.selfloop_edges(ma_net))"
   ],
   "metadata": {
    "collapsed": false,
    "pycharm": {
     "name": "#%%\n"
    }
   }
  },
  {
   "cell_type": "code",
   "execution_count": 8,
   "outputs": [],
   "source": [
    "# Identify the isolated nodes from the TSC1 network\n",
    "g1_iso = [x for  x in g1_net.nodes() if g1_net.degree(x) < 1]\n",
    "g2_iso = [x for  x in g2_net.nodes() if g2_net.degree(x) < 1]\n",
    "ma_iso = [x for  x in ma_net.nodes() if ma_net.degree(x) < 1]"
   ],
   "metadata": {
    "collapsed": false,
    "pycharm": {
     "name": "#%%\n"
    }
   }
  },
  {
   "cell_type": "code",
   "execution_count": 9,
   "outputs": [],
   "source": [
    "# Get the number of publications for each search term\n",
    "g1_results = md.get_publications(g1, 'cell cycle', 'rp467@sussex.ac.uk')\n",
    "g2_results = md.get_publications(g2, 'cell cycle', 'rp467@sussex.ac.uk')\n",
    "ma_results = md.get_publications(ma, 'cell cycle', 'rp467@sussex.ac.uk')"
   ],
   "metadata": {
    "collapsed": false,
    "pycharm": {
     "name": "#%%\n"
    }
   }
  },
  {
   "cell_type": "code",
   "execution_count": 10,
   "outputs": [],
   "source": [
    "# Extract scores\n",
    "g1_score = df[df['Term'] == 'G1/S']\n",
    "g1_score = g1_score.drop('Term', axis=1)\n",
    "g2_score = df[df['Term'] == 'G2/M']\n",
    "g2_score = g2_score.drop('Term', axis=1)\n",
    "ma_score = df[df['Term'] == 'metaphase/anaphase']\n",
    "ma_score = ma_score.drop('Term', axis=1)"
   ],
   "metadata": {
    "collapsed": false,
    "pycharm": {
     "name": "#%%\n"
    }
   }
  },
  {
   "cell_type": "code",
   "execution_count": 11,
   "outputs": [],
   "source": [
    "# Compile DFs\n",
    "# G1/S\n",
    "df1 = pd.DataFrame(g1_results, columns=['gene', 'gene_term']).assign(Term='G1/S')\n",
    "df1 = df1.reset_index(level=0)\n",
    "df1 = pd.merge(df1, g1_score, how='right', left_on='index', right_on='genes')\n",
    "df1 = df1.drop('genes', axis=1)\n",
    "df1['isolated_node'] = df1['index'].isin(g1_iso)\n",
    "\n",
    "# G2/M\n",
    "df2 = pd.DataFrame(g2_results, columns=['gene', 'gene_term']).assign(Term='G2/M')\n",
    "df2 = df2.reset_index(level=0)\n",
    "df2 = pd.merge(df2, g2_score, how='right', left_on='index', right_on='genes')\n",
    "df2 = df2.drop('genes', axis=1)\n",
    "df2['isolated_node'] = df2['index'].isin(g2_iso)\n",
    "\n",
    "# Meta/ana\n",
    "df3 = pd.DataFrame(ma_results, columns=['gene', 'gene_term']).assign(Term='Meta/Ana')\n",
    "df3 = df3.reset_index(level=0)\n",
    "df3 = pd.merge(df3, ma_score, how='right', left_on='index', right_on='genes')\n",
    "df3 = df3.drop('genes', axis=1)\n",
    "df3['isolated_node'] = df3['index'].isin(ma_iso)"
   ],
   "metadata": {
    "collapsed": false,
    "pycharm": {
     "name": "#%%\n"
    }
   }
  },
  {
   "cell_type": "code",
   "execution_count": 12,
   "outputs": [],
   "source": [
    "# Compile final DFs\n",
    "final_df = pd.DataFrame()\n",
    "final_df = final_df.append([df1, df2, df3], ignore_index=True)\n",
    "final_df = final_df.rename(columns={'index':'gene_name', 'gene':'gene_pub', 'gene_term':'gene_term_pub', 'Term':'cell_cycle_term', 'isolated_node':'isolated_node'})"
   ],
   "metadata": {
    "collapsed": false,
    "pycharm": {
     "name": "#%%\n"
    }
   }
  },
  {
   "cell_type": "code",
   "execution_count": 13,
   "outputs": [],
   "source": [
    "# Export df to CSV\n",
    "PRD = \".\"\n",
    "export_path = os.path.join(PRD, 'identified_genes_publications.csv')\n",
    "final_df.to_csv(fr'{export_path}', index = False)"
   ],
   "metadata": {
    "collapsed": false,
    "pycharm": {
     "name": "#%%\n"
    }
   }
  },
  {
   "cell_type": "code",
   "execution_count": 15,
   "outputs": [],
   "source": [],
   "metadata": {
    "collapsed": false,
    "pycharm": {
     "name": "#%%\n"
    }
   }
  }
 ],
 "metadata": {
  "kernelspec": {
   "display_name": "Python 3",
   "language": "python",
   "name": "python3"
  },
  "language_info": {
   "codemirror_mode": {
    "name": "ipython",
    "version": 2
   },
   "file_extension": ".py",
   "mimetype": "text/x-python",
   "name": "python",
   "nbconvert_exporter": "python",
   "pygments_lexer": "ipython2",
   "version": "2.7.6"
  }
 },
 "nbformat": 4,
 "nbformat_minor": 0
}