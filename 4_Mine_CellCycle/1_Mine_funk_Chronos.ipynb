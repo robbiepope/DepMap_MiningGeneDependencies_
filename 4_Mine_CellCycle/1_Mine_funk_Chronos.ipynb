{
 "cells": [
  {
   "cell_type": "markdown",
   "source": [
    "# Mine DepMap data set for Cell Cycle Regulators (n=4,672)\n",
    "### Aim:\n",
    "Search the GO terms from the GSEA results for communities that are enriched in specific cell cycle terms\n",
    "<br>\n",
    "### Output:\n",
    "DF of genes with communities enriched in cell cycle terms exported as a CSV file"
   ],
   "metadata": {
    "collapsed": false,
    "pycharm": {
     "name": "#%% md\n"
    }
   }
  },
  {
   "cell_type": "code",
   "execution_count": 1,
   "outputs": [],
   "source": [
    "# Import packages and DepMap tools\n",
    "import os\n",
    "from DepMapTools.DataImport import SaveLoad\n",
    "from DepMapTools.GeneOntology import OntologyAnalysis\n",
    "from DepMapTools.Networks import Permutations\n",
    "from DepMapTools.Mine import MineData"
   ],
   "metadata": {
    "collapsed": false,
    "pycharm": {
     "name": "#%%\n"
    }
   }
  },
  {
   "cell_type": "code",
   "execution_count": 2,
   "outputs": [],
   "source": [
    "# Instantiate classes\n",
    "sl = SaveLoad()\n",
    "md = MineData()\n",
    "oa = OntologyAnalysis()\n",
    "pm = Permutations()"
   ],
   "metadata": {
    "collapsed": false,
    "pycharm": {
     "name": "#%%\n"
    }
   }
  },
  {
   "cell_type": "code",
   "execution_count": 3,
   "outputs": [],
   "source": [
    "# Define dictionary path\n",
    "PRD = \"..\"\n",
    "k_path = os.path.join(PRD,\n",
    "                      '2_Community_Analysis/pickle_files/chronos_k_community_funk.pickle')\n",
    "k_emp = os.path.join(PRD,\n",
    "                     '2_Community_Analysis/pickle_files/chronos_k_permute_funk.pickle')"
   ],
   "metadata": {
    "collapsed": false,
    "pycharm": {
     "name": "#%%\n"
    }
   }
  },
  {
   "cell_type": "code",
   "execution_count": 4,
   "outputs": [],
   "source": [
    "# Load community analysis dictionaries\n",
    "k_dict = sl.load_dict_pickle(k_path)\n",
    "k_emp = sl.load_dict_pickle(k_emp)"
   ],
   "metadata": {
    "collapsed": false,
    "pycharm": {
     "name": "#%%\n"
    }
   }
  },
  {
   "cell_type": "code",
   "execution_count": 5,
   "outputs": [],
   "source": [
    "# Make final dict\n",
    "funk = pm.make_sig_dict(k_dict, k_emp)"
   ],
   "metadata": {
    "collapsed": false,
    "pycharm": {
     "name": "#%%\n"
    }
   }
  },
  {
   "cell_type": "code",
   "execution_count": 6,
   "outputs": [],
   "source": [
    "# Define term and score mapping dictionary\n",
    "term_dict = {'G1/S': 7, 'G2/M': 8, 'metaphase/anaphase': 4}"
   ],
   "metadata": {
    "collapsed": false,
    "pycharm": {
     "name": "#%%\n"
    }
   }
  },
  {
   "cell_type": "code",
   "execution_count": 7,
   "outputs": [
    {
     "name": "stdout",
     "output_type": "stream",
     "text": [
      "Searching Terms\n",
      "--------------------\n",
      "G1/S : 2 genes\n",
      "G2/M : 2 genes\n",
      "metaphase/anaphase : 2 genes\n",
      "--------------------\n",
      "Compiling DF\n",
      "--------------------\n",
      "Complete\n"
     ]
    }
   ],
   "source": [
    "# Mine the dataset using the term dictionary\n",
    "mine_df = md.mine_terms(term_dict, funk, p_val=1)"
   ],
   "metadata": {
    "collapsed": false,
    "pycharm": {
     "name": "#%%\n"
    }
   }
  },
  {
   "cell_type": "code",
   "execution_count": 8,
   "outputs": [],
   "source": [
    "# Export df to CSV\n",
    "PRD = \"..\"\n",
    "export_path = os.path.join(PRD, '4_Mine_CellCycle/identified_genes_final.csv')\n",
    "mine_df.to_csv(fr'{export_path}', index = False)"
   ],
   "metadata": {
    "collapsed": false,
    "pycharm": {
     "name": "#%%\n"
    }
   }
  },
  {
   "cell_type": "code",
   "execution_count": 8,
   "outputs": [],
   "source": [],
   "metadata": {
    "collapsed": false,
    "pycharm": {
     "name": "#%%\n"
    }
   }
  }
 ],
 "metadata": {
  "kernelspec": {
   "display_name": "Python 3",
   "language": "python",
   "name": "python3"
  },
  "language_info": {
   "codemirror_mode": {
    "name": "ipython",
    "version": 2
   },
   "file_extension": ".py",
   "mimetype": "text/x-python",
   "name": "python",
   "nbconvert_exporter": "python",
   "pygments_lexer": "ipython2",
   "version": "2.7.6"
  }
 },
 "nbformat": 4,
 "nbformat_minor": 0
}