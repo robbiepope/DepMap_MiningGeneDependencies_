{
 "cells": [
  {
   "cell_type": "markdown",
   "source": [
    "# Single Gene Analysis (n=495)\n",
    "### Aim:\n",
    "Perform single gene correlation analysis on test set of well characterised genes (n=495)\n",
    "\n",
    "### Output:\n",
    "Dictionary of dictionaries of results from single gene analysis.\n",
    "Each gene is a key with the following keys\n",
    "##### Dict Keys:\n",
    "- **['Correlation']** - (DF) Correlation results\n",
    "- **['Network']** - (Networkx Graph) STRING Network\n",
    "- **['Interactions']** - (DF) List of node interactions used for edge weights\n",
    "\n",
    "#### Description:\n",
    "- Perform single gene analysis for each of the 495 genes to compute correlations + generate networks\n",
    "- Save final dictionary of results as a pickle file in directory 'pickle_files'"
   ],
   "metadata": {
    "collapsed": false,
    "pycharm": {
     "name": "#%% md\n"
    }
   }
  },
  {
   "cell_type": "code",
   "execution_count": 1,
   "outputs": [],
   "source": [
    "# Import packages + DepMap tools for analysis\n",
    "import os\n",
    "import pandas as pd\n",
    "import time\n",
    "from DepMapTools.DataImport import DataDownload, SaveLoad\n",
    "from DepMapTools.GOI import GOIAnalysis"
   ],
   "metadata": {
    "collapsed": false,
    "pycharm": {
     "name": "#%%\n"
    }
   }
  },
  {
   "cell_type": "code",
   "execution_count": 2,
   "metadata": {
    "collapsed": true,
    "pycharm": {
     "name": "#%%\n"
    }
   },
   "outputs": [],
   "source": [
    "# Instantiate DataDownload and SaveLod classes and download Achilles CRISPR data\n",
    "dd = DataDownload()\n",
    "sl = SaveLoad()\n",
    "\n",
    "# Define CSV file path\n",
    "PRD = \"..\"\n",
    "csv_path = os.path.join(PRD,\n",
    "                        'AnalysisData')\n",
    "\n",
    "# Load clean Achilles CRISPR data\n",
    "df = dd.load_data('CRISPR_gene_effect_clean.csv', 0, csv_path)"
   ]
  },
  {
   "cell_type": "code",
   "execution_count": 3,
   "outputs": [],
   "source": [
    "# Load gene list dataset\n",
    "gene_path = os.path.join(PRD,\n",
    "                         'AnalysisData')\n",
    "gene_data = dd.load_data('Gene_lists_final.csv', 0, gene_path)"
   ],
   "metadata": {
    "collapsed": false,
    "pycharm": {
     "name": "#%%\n"
    }
   }
  },
  {
   "cell_type": "code",
   "execution_count": 4,
   "outputs": [],
   "source": [
    "# Format gene_data to make it iterable\n",
    "gene_list = gene_data.values.T.ravel()\n",
    "gene_df = pd.DataFrame(gene_list, columns=['gene'])\n",
    "gene_df = gene_df.dropna()\n",
    "gene_df['gene'] = gene_df['gene'].astype(pd.StringDtype())\n",
    "gene_df = gene_df.sort_values(by=['gene'])\n",
    "gene_df = gene_df.reset_index(drop=True)"
   ],
   "metadata": {
    "collapsed": false,
    "pycharm": {
     "name": "#%%\n"
    }
   }
  },
  {
   "cell_type": "code",
   "execution_count": 5,
   "outputs": [],
   "source": [
    "# Find genes not in Achilles df\n",
    "ach_genes = list(df.columns.values)\n",
    "not_in_df = [gene for gene in gene_df['gene'] if gene not in ach_genes]"
   ],
   "metadata": {
    "collapsed": false,
    "pycharm": {
     "name": "#%%\n"
    }
   }
  },
  {
   "cell_type": "code",
   "execution_count": 6,
   "outputs": [
    {
     "name": "stdout",
     "output_type": "stream",
     "text": [
      "Starting length of gene_df = 597\n",
      "--------------------\n",
      "Removed 27 genes from gene_df not present in Achilles df\n",
      "There are now 570 genes in gene_df\n",
      "--------------------\n",
      "Drop duplicates\n",
      "Removed 75 duplicate genes\n",
      "There are now 495 genes in gene_df\n"
     ]
    }
   ],
   "source": [
    "# Remove genes not in Achilles df not in gene list\n",
    "print(f'Starting length of gene_df = {len(gene_df)}')\n",
    "print('-'*20)\n",
    "for gene in not_in_df:\n",
    "    gene_df = gene_df.drop(gene_df['gene'].loc[gene_df['gene'] == gene].index)\n",
    "print(f'Removed {len(not_in_df)} genes from gene_df not present in Achilles df\\nThere are now {len(gene_df)} genes in gene_df')\n",
    "print('-'*20)\n",
    "print('Drop duplicates')\n",
    "length = len(gene_df)\n",
    "gene_df = gene_df.drop_duplicates(ignore_index=True)\n",
    "print(f'Removed {length - len(gene_df)} duplicate genes\\nThere are now {len(gene_df)} genes in gene_df')"
   ],
   "metadata": {
    "collapsed": false,
    "pycharm": {
     "name": "#%%\n"
    }
   }
  },
  {
   "cell_type": "code",
   "execution_count": 7,
   "outputs": [
    {
     "name": "stdout",
     "output_type": "stream",
     "text": [
      "Computing Single Gene Analysis\n",
      "50 genes analysed\n",
      "100 genes analysed\n",
      "150 genes analysed\n",
      "200 genes analysed\n",
      "250 genes analysed\n",
      "300 genes analysed\n",
      "350 genes analysed\n",
      "400 genes analysed\n",
      "450 genes analysed\n",
      "Complete\n"
     ]
    }
   ],
   "source": [
    "# Run single gene analysis and return dict of dicts of results\n",
    "print('Computing Single Gene Analysis')\n",
    "gene_dict = {}\n",
    "counter = 0\n",
    "for gene in gene_df['gene']:\n",
    "    goi = GOIAnalysis(df, gene)\n",
    "    goi_dict = goi.goi_analysis(400)\n",
    "    gene_dict[f'{gene}'] = goi_dict\n",
    "    counter += 1\n",
    "    time.sleep(1)\n",
    "    if counter%50 == 0:\n",
    "        print(f'{counter} genes analysed')\n",
    "print('Complete')"
   ],
   "metadata": {
    "collapsed": false,
    "pycharm": {
     "name": "#%%\n"
    }
   }
  },
  {
   "cell_type": "code",
   "execution_count": 8,
   "outputs": [],
   "source": [
    "# Save dictionary of dictionaries as a pickle file in pickle folder\n",
    "sl.save_dict_pickle(gene_dict, 'chronos_singlegene_495')"
   ],
   "metadata": {
    "collapsed": false,
    "pycharm": {
     "name": "#%%\n"
    }
   }
  }
 ],
 "metadata": {
  "kernelspec": {
   "display_name": "Python 3",
   "language": "python",
   "name": "python3"
  },
  "language_info": {
   "codemirror_mode": {
    "name": "ipython",
    "version": 2
   },
   "file_extension": ".py",
   "mimetype": "text/x-python",
   "name": "python",
   "nbconvert_exporter": "python",
   "pygments_lexer": "ipython2",
   "version": "2.7.6"
  }
 },
 "nbformat": 4,
 "nbformat_minor": 0
}