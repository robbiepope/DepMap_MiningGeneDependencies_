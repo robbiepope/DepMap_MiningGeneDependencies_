{
 "cells": [
  {
   "cell_type": "markdown",
   "source": [
    "# DepMap (CHRONOS) 2022 Q2 Data Download\n",
    "### Aim:\n",
    "Download DepMap dataset for 2022\n",
    "Essentiality inferred by CHRONOS\n",
    "\n",
    "### Output:\n",
    "DF of wrangled and cleaned DepMap gene effect data exported as CSV file\n",
    "\n",
    "##### Description:\n",
    "- Via URL, download the 2022 Q2 GeneEffect and SampleInfo datafiles from the DepMap website as DFs with essentiality scores inferred by CHRONOS\n",
    "- Wrangle and clean the DFs to produce a final merged DF\n",
    "- Save final DF as 'CRISPR_gene_effect_clean.csv'"
   ],
   "metadata": {
    "collapsed": false,
    "pycharm": {
     "name": "#%% md\n"
    }
   }
  },
  {
   "cell_type": "code",
   "execution_count": 1,
   "outputs": [],
   "source": [
    "# Import DepMap tools for data download\n",
    "import os\n",
    "from DepMapTools.DataImport import DataDownload"
   ],
   "metadata": {
    "collapsed": false,
    "pycharm": {
     "name": "#%%\n"
    }
   }
  },
  {
   "cell_type": "code",
   "execution_count": 2,
   "outputs": [
    {
     "name": "stdout",
     "output_type": "stream",
     "text": [
      "Downloading data from URLs\n",
      "--------------------\n",
      "Organising and merging dataframes\n",
      "--------------------\n",
      "Filling NaN values\n",
      "3390 missing values imputed with median from each column\n",
      "--------------------\n",
      "Saving clean data file\n",
      "--------------------\n",
      "Complete\n",
      "--------------------\n"
     ]
    }
   ],
   "source": [
    "# Instantiate DataDownload class and download Achilles CRISPR data\n",
    "dd = DataDownload(foldername='AnalysisData', filename='CRISPR_gene_effect_clean')\n",
    "dd.clean_and_save('https://ndownloader.figshare.com/files/35020903', 'https://ndownloader.figshare.com/files/34990036')"
   ],
   "metadata": {
    "collapsed": false,
    "pycharm": {
     "name": "#%%\n"
    }
   }
  },
  {
   "cell_type": "code",
   "execution_count": 3,
   "outputs": [],
   "source": [
    "# Define CSV file path\n",
    "PRD = \"..\"\n",
    "csv_path = os.path.join(PRD,\n",
    "                        'AnalysisData')\n",
    "# Load clean Achilles CRISPR data\n",
    "df = dd.load_data('CRISPR_gene_effect_clean.csv', 0, csv_path)"
   ],
   "metadata": {
    "collapsed": false,
    "pycharm": {
     "name": "#%%\n"
    }
   }
  },
  {
   "cell_type": "code",
   "execution_count": 4,
   "outputs": [
    {
     "name": "stdout",
     "output_type": "stream",
     "text": [
      "<class 'pandas.core.frame.DataFrame'>\n",
      "Index: 1086 entries, NIHOVCAR3 to UPMD1\n",
      "Columns: 17386 entries, A1BG to ZZZ3\n",
      "dtypes: float64(17386)\n",
      "memory usage: 144.1+ MB\n"
     ]
    }
   ],
   "source": [
    "df.info()"
   ],
   "metadata": {
    "collapsed": false,
    "pycharm": {
     "name": "#%%\n"
    }
   }
  }
 ],
 "metadata": {
  "kernelspec": {
   "display_name": "Python 3",
   "language": "python",
   "name": "python3"
  },
  "language_info": {
   "codemirror_mode": {
    "name": "ipython",
    "version": 2
   },
   "file_extension": ".py",
   "mimetype": "text/x-python",
   "name": "python",
   "nbconvert_exporter": "python",
   "pygments_lexer": "ipython2",
   "version": "2.7.6"
  }
 },
 "nbformat": 4,
 "nbformat_minor": 0
}