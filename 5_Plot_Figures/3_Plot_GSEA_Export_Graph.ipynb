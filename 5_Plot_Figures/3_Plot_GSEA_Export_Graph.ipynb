{
 "cells": [
  {
   "cell_type": "markdown",
   "source": [
    "# Export community graph and GSEA bar plot for largest community\n",
    "### Aim:\n",
    "Export the graph community in .gml format for plotting in Gephi\n",
    "Perform GSEA for largest community and plot bar plot\n",
    "\n",
    "### Output:\n",
    "Community graph in .gml file\n",
    "GSEA bar plot for largest community"
   ],
   "metadata": {
    "collapsed": false,
    "pycharm": {
     "name": "#%% md\n"
    }
   }
  },
  {
   "cell_type": "code",
   "execution_count": 15,
   "outputs": [],
   "source": [
    "# Import packages and DepMap tools\n",
    "from DepMapTools.DataImport import SaveLoad, DataDownload\n",
    "from DepMapTools.GeneOntology import OntologyAnalysis\n",
    "import networkx as nx\n",
    "import os\n",
    "import gseapy as gp"
   ],
   "metadata": {
    "collapsed": false,
    "pycharm": {
     "name": "#%%\n"
    }
   }
  },
  {
   "cell_type": "code",
   "execution_count": 16,
   "outputs": [],
   "source": [
    "# Define CSV file path and load clean Achilles CRISPR data\n",
    "dd = DataDownload()\n",
    "PRD = \"..\"\n",
    "csv_path = os.path.join(PRD,\n",
    "                        'AnalysisData')\n",
    "df = dd.load_data('CRISPR_gene_effect_clean.csv', 0, csv_path)"
   ],
   "metadata": {
    "collapsed": false,
    "pycharm": {
     "name": "#%%\n"
    }
   }
  },
  {
   "cell_type": "code",
   "execution_count": 17,
   "outputs": [],
   "source": [
    "# Instantiate SaveLoad class and define directory to save network image\n",
    "sl = SaveLoad()\n",
    "oa = OntologyAnalysis()\n",
    "dir_name = 'Figures'\n",
    "data_path = os.path.join(PRD, dir_name)\n",
    "os.makedirs(data_path,\n",
    "            exist_ok=True)"
   ],
   "metadata": {
    "collapsed": false,
    "pycharm": {
     "name": "#%%\n"
    }
   }
  },
  {
   "cell_type": "code",
   "execution_count": 18,
   "outputs": [],
   "source": [
    "# Load single gene analysis dictionary\n",
    "filename = 'chronos_singlegene_funk.pickle'\n",
    "pickle_path = os.path.join(PRD,\n",
    "                           '1_SingleGene_Analysis/pickle_files/' + filename)\n",
    "funk_net = sl.load_dict_pickle(pickle_path)"
   ],
   "metadata": {
    "collapsed": false,
    "pycharm": {
     "name": "#%%\n"
    }
   }
  },
  {
   "cell_type": "code",
   "execution_count": 19,
   "outputs": [],
   "source": [
    "# Load com analysis dictionary\n",
    "filename = 'chronos_k_community_funk.pickle'\n",
    "pickle_path = os.path.join(PRD,\n",
    "                           '2_Community_Analysis/pickle_files/' + filename)\n",
    "coms = sl.load_dict_pickle(pickle_path)"
   ],
   "metadata": {
    "collapsed": false,
    "pycharm": {
     "name": "#%%\n"
    }
   }
  },
  {
   "cell_type": "code",
   "execution_count": 20,
   "outputs": [],
   "source": [
    "# Input gene to plot and export community graph\n",
    "gene = 'INHBE'"
   ],
   "metadata": {
    "collapsed": false,
    "pycharm": {
     "name": "#%%\n"
    }
   }
  },
  {
   "cell_type": "code",
   "execution_count": 13,
   "outputs": [],
   "source": [
    "# Define function to plot GSEA and export the community graph\n",
    "def plot_export_community(gene, net_dict, com_dict):\n",
    "    g = net_dict[gene]['Network']\n",
    "    com = com_dict[gene]['Community']\n",
    "    com_genes = com['gene'].tolist()\n",
    "    com_genes.append(gene)\n",
    "    g_nodes = list(g.nodes())\n",
    "    to_del = []\n",
    "    # Remove nodes not in the community\n",
    "    for n in g_nodes:\n",
    "        if n not in com_genes:\n",
    "            to_del.append(n)\n",
    "    for x in to_del:\n",
    "        g.remove_node(x)\n",
    "    # Export community graph\n",
    "    nx.write_gml(g, f'{gene}_com.gml')\n",
    "    # Perform GSEA for and plot graph\n",
    "    com_gsea = oa.gsea(com_genes)\n",
    "    gp.barplot(com_gsea,\n",
    "               title=f'{gene} Community GSEA',\n",
    "               top_term=10,\n",
    "               color='#27408B',\n",
    "               figsize=(8, 8),\n",
    "               ofname=f'{gene}_bar')"
   ],
   "metadata": {
    "collapsed": false,
    "pycharm": {
     "name": "#%%\n"
    }
   }
  },
  {
   "cell_type": "code",
   "execution_count": 14,
   "outputs": [],
   "source": [
    "plot_export_community(gene, funk_net, coms)"
   ],
   "metadata": {
    "collapsed": false,
    "pycharm": {
     "name": "#%%\n"
    }
   }
  }
 ],
 "metadata": {
  "kernelspec": {
   "display_name": "Python 3",
   "language": "python",
   "name": "python3"
  },
  "language_info": {
   "codemirror_mode": {
    "name": "ipython",
    "version": 2
   },
   "file_extension": ".py",
   "mimetype": "text/x-python",
   "name": "python",
   "nbconvert_exporter": "python",
   "pygments_lexer": "ipython2",
   "version": "2.7.6"
  }
 },
 "nbformat": 4,
 "nbformat_minor": 0
}