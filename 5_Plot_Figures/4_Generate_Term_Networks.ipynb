{
 "cells": [
  {
   "cell_type": "markdown",
   "source": [
    "# Export community graph and GSEA bar plot for the cell cycle search terms\n",
    "### Aim:\n",
    "Export the graph community in .gml format for plotting in Gephi\n",
    "Perform GSEA for largest community and plot bar plot\n",
    "\n",
    "### Output:\n",
    "Community graph in .gml file\n",
    "GSEA bar plot for largest community"
   ],
   "metadata": {
    "collapsed": false,
    "pycharm": {
     "name": "#%% md\n"
    }
   }
  },
  {
   "cell_type": "code",
   "execution_count": 16,
   "outputs": [],
   "source": [
    "# Import packages + DepMap tools for analysis\n",
    "import networkx as nx\n",
    "from DepMapTools.DataImport import DataDownload, SaveLoad\n",
    "from DepMapTools.Networks import NetworkAnalysis\n",
    "from DepMapTools.GeneOntology import OntologyAnalysis\n",
    "import gseapy as gp"
   ],
   "metadata": {
    "collapsed": false,
    "pycharm": {
     "name": "#%%\n"
    }
   }
  },
  {
   "cell_type": "code",
   "execution_count": 15,
   "outputs": [],
   "source": [
    "# Instantiate DataDownload and SaveLod classes and download Achilles CRISPR data\n",
    "dd = DataDownload()\n",
    "sl = SaveLoad()\n",
    "na = NetworkAnalysis()\n",
    "oa = OntologyAnalysis()\n",
    "# Define CSV file path and load data\n",
    "PRD = \".\"\n",
    "df = dd.load_data('identified_genes_final.csv', 0, PRD)"
   ],
   "metadata": {
    "collapsed": false,
    "pycharm": {
     "name": "#%%\n"
    }
   }
  },
  {
   "cell_type": "code",
   "execution_count": 3,
   "outputs": [],
   "source": [
    "# Get term DFs\n",
    "g1 = df[df['Term'] == 'G1/S'].reset_index()\n",
    "g2 = df[df['Term'] == 'G2/M'].reset_index()\n",
    "ma = df[df['Term'] == 'metaphase/anaphase'].reset_index()"
   ],
   "metadata": {
    "collapsed": false,
    "pycharm": {
     "name": "#%%\n"
    }
   }
  },
  {
   "cell_type": "code",
   "execution_count": 4,
   "outputs": [],
   "source": [
    "# Get gene list\n",
    "g1_genes = g1['genes'].tolist()\n",
    "g2_genes = g2['genes'].tolist()\n",
    "ma_genes = ma['genes'].tolist()"
   ],
   "metadata": {
    "collapsed": false,
    "pycharm": {
     "name": "#%%\n"
    }
   }
  },
  {
   "cell_type": "code",
   "execution_count": 5,
   "outputs": [],
   "source": [
    "# Get interactions\n",
    "g1_int = na.generate_interactions(g1_genes)\n",
    "g2_int = na.generate_interactions(g2_genes)\n",
    "ma_int = na.generate_interactions(ma_genes)"
   ],
   "metadata": {
    "collapsed": false,
    "pycharm": {
     "name": "#%%\n"
    }
   }
  },
  {
   "cell_type": "code",
   "execution_count": 6,
   "outputs": [],
   "source": [
    "# Make networks\n",
    "g1_net = na.network_import(g1_int)\n",
    "g2_net = na.network_import(g2_int)\n",
    "ma_net = na.network_import(ma_int)"
   ],
   "metadata": {
    "collapsed": false,
    "pycharm": {
     "name": "#%%\n"
    }
   }
  },
  {
   "cell_type": "code",
   "execution_count": 7,
   "outputs": [],
   "source": [
    "# export networks\n",
    "nx.write_gexf(g1_net, 'g1s.gexf')\n",
    "nx.write_gexf(g2_net, 'g2m.gexf')\n",
    "nx.write_gexf(ma_net, 'ma.gexf')"
   ],
   "metadata": {
    "collapsed": false,
    "pycharm": {
     "name": "#%%\n"
    }
   }
  },
  {
   "cell_type": "code",
   "execution_count": 8,
   "outputs": [],
   "source": [
    "# Get GSEA and plot\n",
    "database=['GO_Biological_Process_2021']\n",
    "genelist = g1_genes\n",
    "enr = gp.enrichr(gene_list=genelist,\n",
    "                 gene_sets=database,\n",
    "                 organism='Human',\n",
    "                 cutoff=0.5)"
   ],
   "metadata": {
    "collapsed": false,
    "pycharm": {
     "name": "#%%\n"
    }
   }
  },
  {
   "cell_type": "code",
   "execution_count": 9,
   "outputs": [],
   "source": [
    "ax = gp.barplot(enr.res2d, title='G1S Identified Genes GSEA', top_term=15, color='#27408B', figsize=(5, 5), ofname='G1S_bar')"
   ],
   "metadata": {
    "collapsed": false,
    "pycharm": {
     "name": "#%%\n"
    }
   }
  },
  {
   "cell_type": "code",
   "execution_count": 10,
   "outputs": [],
   "source": [
    "# Get GSEA and plot\n",
    "genelist = g2_genes\n",
    "enr = gp.enrichr(gene_list=genelist,\n",
    "                 gene_sets=database,\n",
    "                 organism='Human',\n",
    "                 cutoff=0.5)"
   ],
   "metadata": {
    "collapsed": false,
    "pycharm": {
     "name": "#%%\n"
    }
   }
  },
  {
   "cell_type": "code",
   "execution_count": 11,
   "outputs": [],
   "source": [
    "ax = gp.barplot(enr.res2d, title='G2M Identified Genes GSEA', top_term=15, color='#27408B', figsize=(5, 5), ofname='G2M_bar')"
   ],
   "metadata": {
    "collapsed": false,
    "pycharm": {
     "name": "#%%\n"
    }
   }
  },
  {
   "cell_type": "code",
   "execution_count": 12,
   "outputs": [],
   "source": [
    "# Get GSEA and plot\n",
    "genelist = ma_genes\n",
    "enr = gp.enrichr(gene_list=genelist,\n",
    "                 gene_sets=database,\n",
    "                 organism='Human',\n",
    "                 cutoff=0.5)"
   ],
   "metadata": {
    "collapsed": false,
    "pycharm": {
     "name": "#%%\n"
    }
   }
  },
  {
   "cell_type": "code",
   "execution_count": 13,
   "outputs": [],
   "source": [
    "ax = gp.barplot(enr.res2d, title='Metaphase/Anaphase Identified Genes GSEA', top_term=15, color='#27408B', figsize=(5, 5), ofname='MA_bar')"
   ],
   "metadata": {
    "collapsed": false,
    "pycharm": {
     "name": "#%%\n"
    }
   }
  }
 ],
 "metadata": {
  "kernelspec": {
   "display_name": "Python 3",
   "language": "python",
   "name": "python3"
  },
  "language_info": {
   "codemirror_mode": {
    "name": "ipython",
    "version": 2
   },
   "file_extension": ".py",
   "mimetype": "text/x-python",
   "name": "python",
   "nbconvert_exporter": "python",
   "pygments_lexer": "ipython2",
   "version": "2.7.6"
  }
 },
 "nbformat": 4,
 "nbformat_minor": 0
}